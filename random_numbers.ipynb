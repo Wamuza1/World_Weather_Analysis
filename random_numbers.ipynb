{
 "cells": [
  {
   "cell_type": "code",
   "execution_count": 1,
   "id": "d77cc6ef",
   "metadata": {},
   "outputs": [],
   "source": [
    "#import the random library\n",
    "import random\n",
    "\n",
    "#import Dependency \n",
    "import numpy as np"
   ]
  },
  {
   "cell_type": "code",
   "execution_count": 7,
   "id": "50fe0616",
   "metadata": {},
   "outputs": [
    {
     "data": {
      "text/plain": [
       "-75"
      ]
     },
     "execution_count": 7,
     "metadata": {},
     "output_type": "execute_result"
    }
   ],
   "source": [
    "random.randint(-90, 90)"
   ]
  },
  {
   "cell_type": "code",
   "execution_count": 8,
   "id": "0ce7e226",
   "metadata": {},
   "outputs": [
    {
     "data": {
      "text/plain": [
       "0.2976456402994523"
      ]
     },
     "execution_count": 8,
     "metadata": {},
     "output_type": "execute_result"
    }
   ],
   "source": [
    "random.random()"
   ]
  },
  {
   "cell_type": "code",
   "execution_count": 9,
   "id": "dc80e453",
   "metadata": {},
   "outputs": [
    {
     "data": {
      "text/plain": [
       "7.104980403788892"
      ]
     },
     "execution_count": 9,
     "metadata": {},
     "output_type": "execute_result"
    }
   ],
   "source": [
    "random_number = random.randint(-90, 90) + random.random()\n",
    "random_number"
   ]
  },
  {
   "cell_type": "code",
   "execution_count": 10,
   "id": "d15dbeb7",
   "metadata": {},
   "outputs": [
    {
     "data": {
      "text/plain": [
       "87.13552437783204"
      ]
     },
     "execution_count": 10,
     "metadata": {},
     "output_type": "execute_result"
    }
   ],
   "source": [
    "np.random.uniform(-90.000, 90.000)"
   ]
  },
  {
   "cell_type": "code",
   "execution_count": 3,
   "id": "04ace6ee",
   "metadata": {},
   "outputs": [
    {
     "data": {
      "text/plain": [
       "array([-84.55041895, -74.24470455,  89.80784262,  59.5289996 ,\n",
       "        12.37715334,  80.45846947, -67.42381554,  62.49931564,\n",
       "       -74.52147295,  43.43336555, -23.42200589, -39.91607502,\n",
       "       -36.2031883 , -83.15541854, -13.15548808,  41.64228392,\n",
       "       -83.28056852, -88.4213285 , -71.98523976,  76.98201013,\n",
       "       -12.43560882,  16.41619226,  47.04252553, -61.04945503,\n",
       "       -70.54088203,   7.28678369, -31.53903147,  70.04785557,\n",
       "        35.30752142,  69.33502197,   3.12913335,  25.19075463,\n",
       "       -15.5467205 , -45.12915353, -22.73659103, -26.55487876,\n",
       "       -24.40228296,  19.54468979, -60.88862198,  -6.82685251,\n",
       "       -50.90645368,   1.68893353, -71.56903105, -71.4917318 ,\n",
       "       -66.16470091, -24.44155487,  63.2369883 ,  48.61627372,\n",
       "        60.36740183, -59.47781158])"
      ]
     },
     "execution_count": 3,
     "metadata": {},
     "output_type": "execute_result"
    }
   ],
   "source": [
    "np.random.uniform(-90.000, 90.000, size=50)"
   ]
  },
  {
   "cell_type": "code",
   "execution_count": 4,
   "id": "9215c5cf",
   "metadata": {},
   "outputs": [],
   "source": [
    "#import timeit\n",
    "import timeit"
   ]
  },
  {
   "cell_type": "code",
   "execution_count": 5,
   "id": "b9582135",
   "metadata": {},
   "outputs": [
    {
     "name": "stdout",
     "output_type": "stream",
     "text": [
      "11.4 µs ± 457 ns per loop (mean ± std. dev. of 7 runs, 100000 loops each)\n"
     ]
    }
   ],
   "source": [
    "# The output is the amount of time it took to run this code,\n",
    "# which is an average of 14.4 microseconds. \n",
    "# The amount of time it takes to run this code depends on the processing speed and the RAM of your computer.\n",
    "%timeit np.random.uniform(-90.000, 90.000, size=1500)"
   ]
  },
  {
   "cell_type": "code",
   "execution_count": 6,
   "id": "0b1a8492",
   "metadata": {},
   "outputs": [
    {
     "name": "stdout",
     "output_type": "stream",
     "text": [
      "1.1 ms ± 37.3 µs per loop (mean ± std. dev. of 7 runs, 1000 loops each)\n"
     ]
    }
   ],
   "source": [
    "def latitudes(size):\n",
    "    latitudes = []\n",
    "    x = 0\n",
    "    while x < (size):\n",
    "        random_lat = random.randint(-90, 90) + random.random()\n",
    "        latitudes.append(random_lat)\n",
    "        x += 1\n",
    "    return latitudes\n",
    "# Call the function with 1500.\n",
    "%timeit latitudes(1500)"
   ]
  },
  {
   "cell_type": "code",
   "execution_count": null,
   "id": "9bc50a9f",
   "metadata": {},
   "outputs": [],
   "source": []
  },
  {
   "cell_type": "code",
   "execution_count": null,
   "id": "5aab3d20",
   "metadata": {},
   "outputs": [],
   "source": []
  },
  {
   "cell_type": "code",
   "execution_count": null,
   "id": "61fdbc2d",
   "metadata": {},
   "outputs": [],
   "source": []
  }
 ],
 "metadata": {
  "kernelspec": {
   "display_name": "PythonData",
   "language": "python",
   "name": "pythondata"
  },
  "language_info": {
   "codemirror_mode": {
    "name": "ipython",
    "version": 3
   },
   "file_extension": ".py",
   "mimetype": "text/x-python",
   "name": "python",
   "nbconvert_exporter": "python",
   "pygments_lexer": "ipython3",
   "version": "3.8.12"
  }
 },
 "nbformat": 4,
 "nbformat_minor": 5
}
